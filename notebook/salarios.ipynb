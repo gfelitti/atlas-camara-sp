{
 "cells": [
  {
   "cell_type": "code",
   "execution_count": 1,
   "metadata": {
    "collapsed": true
   },
   "outputs": [],
   "source": [
    "import requests\n",
    "import pandas as pd\n",
    "from bs4 import BeautifulSoup"
   ]
  },
  {
   "cell_type": "code",
   "execution_count": null,
   "metadata": {
    "collapsed": true
   },
   "outputs": [],
   "source": []
  },
  {
   "cell_type": "code",
   "execution_count": 2,
   "metadata": {
    "collapsed": true
   },
   "outputs": [],
   "source": [
    "def str_reais_para_float(valor):\n",
    "    return float(valor.replace(\"R$ \", \"\").replace(\".\", \"\").replace(\",\", \".\"))"
   ]
  },
  {
   "cell_type": "code",
   "execution_count": null,
   "metadata": {
    "collapsed": true
   },
   "outputs": [],
   "source": []
  },
  {
   "cell_type": "code",
   "execution_count": 6,
   "metadata": {
    "collapsed": true
   },
   "outputs": [],
   "source": [
    "def ler_pagina_salarios(response):\n",
    "    \n",
    "    if response.status_code == 200:\n",
    "        soup = BeautifulSoup(response.content, 'lxml')\n",
    "        tables = soup.find(\"table\", {\"id\": \"tabela_principal\"})\n",
    "        trs = tables.find_all(\"tr\")\n",
    "        \n",
    "        funcionarios = []\n",
    "\n",
    "        for tr in trs:\n",
    "            nome_valor = tr.find(\"td\", {\"class\": \"nome_valor\"})\n",
    "            cargo_valor = tr.find(\"td\", {\"class\": \"cargo_valor\"})\n",
    "            funcao_valor = tr.find(\"td\", {\"class\": \"funcao_valor\"})\n",
    "            remuneracao_valor = tr.find(\"td\", {\"class\": \"remun_valor\"})\n",
    "\n",
    "            nome, cargo, remuneracao_liquida, remuneracao_liquida_pos_desconto = None, None, None, None\n",
    "\n",
    "            try:\n",
    "                if nome_valor is not None:\n",
    "                    nome = nome_valor.string.strip()\n",
    "\n",
    "                if cargo_valor is not None:\n",
    "                    cargo = cargo_valor.string.strip()\n",
    "\n",
    "                if remuneracao_valor is not None:\n",
    "\n",
    "                    remun_dir = remuneracao_valor.find_all(\"td\", {\"class\": \"remun_dir\"})\n",
    "                    remun_unica = remuneracao_valor.find(\"td\", {\"class\": \"remun_unica\"}) \n",
    "\n",
    "                    if len(remun_dir) == 0:\n",
    "                        remuneracao_liquida = str_reais_para_float(remun_unica.a.string.strip())\n",
    "                    else:\n",
    "                        remuneracao_liquida = str_reais_para_float(remun_dir[0].a.string.strip())\n",
    "                        remuneracao_liquida_pos_desconto = str_reais_para_float(remun_dir[1].a.string.strip())\n",
    "\n",
    "                if nome_valor is not None:\n",
    "                    funcionario = dict(nome=nome, cargo=cargo, remuneracao_liquida=remuneracao_liquida, \n",
    "                                       remuneracao_liquida_pos_desconto=remuneracao_liquida_pos_desconto)\n",
    "                \n",
    "                    funcionarios.append(funcionario)\n",
    "            except Exception as e:\n",
    "                pass\n",
    "        \n",
    "        return funcionarios\n",
    "        \n",
    "    else:\n",
    "        print('Response:', response.status_code)"
   ]
  },
  {
   "cell_type": "code",
   "execution_count": null,
   "metadata": {
    "collapsed": true
   },
   "outputs": [],
   "source": []
  },
  {
   "cell_type": "code",
   "execution_count": 7,
   "metadata": {
    "collapsed": false
   },
   "outputs": [],
   "source": [
    "def buscar_salarios(mes):\n",
    "    \"\"\"\n",
    "        mes: (int)\n",
    "    \"\"\"\n",
    "    url = \"http://www2.camara.sp.gov.br/SalariosAbertos/HTML_ativos_2016_{0}/todos.html\".format(str(mes).zfill(2))\n",
    "    response = requests.get(url)\n",
    "    return ler_pagina_salarios(response)"
   ]
  },
  {
   "cell_type": "code",
   "execution_count": null,
   "metadata": {
    "collapsed": true
   },
   "outputs": [],
   "source": []
  },
  {
   "cell_type": "code",
   "execution_count": 8,
   "metadata": {
    "collapsed": false
   },
   "outputs": [],
   "source": [
    "salarios = buscar_salarios(10)"
   ]
  },
  {
   "cell_type": "code",
   "execution_count": 9,
   "metadata": {
    "collapsed": true
   },
   "outputs": [],
   "source": [
    "df = pd.DataFrame().from_records(salarios)"
   ]
  },
  {
   "cell_type": "code",
   "execution_count": 10,
   "metadata": {
    "collapsed": false
   },
   "outputs": [
    {
     "data": {
      "text/html": [
       "<div>\n",
       "<table border=\"1\" class=\"dataframe\">\n",
       "  <thead>\n",
       "    <tr style=\"text-align: right;\">\n",
       "      <th></th>\n",
       "      <th>cargo</th>\n",
       "      <th>nome</th>\n",
       "      <th>remuneracao_liquida</th>\n",
       "      <th>remuneracao_liquida_pos_desconto</th>\n",
       "    </tr>\n",
       "  </thead>\n",
       "  <tbody>\n",
       "    <tr>\n",
       "      <th>1639</th>\n",
       "      <td>PROCURADOR LEGISLATIVO</td>\n",
       "      <td>BRENO GANDELMAN</td>\n",
       "      <td>41151.77</td>\n",
       "      <td>41116.61</td>\n",
       "    </tr>\n",
       "    <tr>\n",
       "      <th>1640</th>\n",
       "      <td>PROCURADOR LEGISLATIVO</td>\n",
       "      <td>RAIMUNDO BATISTA</td>\n",
       "      <td>40968.69</td>\n",
       "      <td>38301.74</td>\n",
       "    </tr>\n",
       "    <tr>\n",
       "      <th>1837</th>\n",
       "      <td>PROCURADOR LEGISLATIVO</td>\n",
       "      <td>MARCELLA FALBO GIACAGLIA</td>\n",
       "      <td>38519.85</td>\n",
       "      <td>38484.69</td>\n",
       "    </tr>\n",
       "    <tr>\n",
       "      <th>1710</th>\n",
       "      <td>TÉCNICO ADMINISTRATIVO</td>\n",
       "      <td>ANGELA BORDIN ANDREONI</td>\n",
       "      <td>36730.72</td>\n",
       "      <td>36013.17</td>\n",
       "    </tr>\n",
       "    <tr>\n",
       "      <th>68</th>\n",
       "      <td>PROCURADOR LEGISLATIVO</td>\n",
       "      <td>ANTONIO RODRIGUES DE FREITAS JUNIOR</td>\n",
       "      <td>35297.85</td>\n",
       "      <td>32217.85</td>\n",
       "    </tr>\n",
       "    <tr>\n",
       "      <th>1547</th>\n",
       "      <td>TÉCNICO ADMINISTRATIVO</td>\n",
       "      <td>RUI HIROSHI TAMASHIRO</td>\n",
       "      <td>34039.10</td>\n",
       "      <td>33977.44</td>\n",
       "    </tr>\n",
       "    <tr>\n",
       "      <th>1859</th>\n",
       "      <td>PROCURADOR LEGISLATIVO</td>\n",
       "      <td>MANOEL JOSE ANIDO FILHO</td>\n",
       "      <td>33581.18</td>\n",
       "      <td>NaN</td>\n",
       "    </tr>\n",
       "    <tr>\n",
       "      <th>1874</th>\n",
       "      <td>PROCURADOR LEGISLATIVO</td>\n",
       "      <td>LUIZ EDUARDO DE SIQUEIRA S THIAGO</td>\n",
       "      <td>33243.62</td>\n",
       "      <td>NaN</td>\n",
       "    </tr>\n",
       "    <tr>\n",
       "      <th>147</th>\n",
       "      <td>PROCURADOR LEGISLATIVO</td>\n",
       "      <td>KAREN LIMA VIEIRA</td>\n",
       "      <td>33060.44</td>\n",
       "      <td>28570.95</td>\n",
       "    </tr>\n",
       "    <tr>\n",
       "      <th>1927</th>\n",
       "      <td>TÉCNICO PARLAMENTAR (PS)</td>\n",
       "      <td>JOSE CARLOS TEIXEIRA DE CAMARGO FILHO</td>\n",
       "      <td>32015.41</td>\n",
       "      <td>24135.00</td>\n",
       "    </tr>\n",
       "    <tr>\n",
       "      <th>1867</th>\n",
       "      <td>PROCURADOR LEGISLATIVO</td>\n",
       "      <td>ANDREA RASCOVSKI ICKOWICZ</td>\n",
       "      <td>31607.29</td>\n",
       "      <td>NaN</td>\n",
       "    </tr>\n",
       "    <tr>\n",
       "      <th>1875</th>\n",
       "      <td>PROCURADOR LEGISLATIVO</td>\n",
       "      <td>MARIO SERGIO MASCHIETTO</td>\n",
       "      <td>31555.15</td>\n",
       "      <td>NaN</td>\n",
       "    </tr>\n",
       "    <tr>\n",
       "      <th>1857</th>\n",
       "      <td>PROCURADOR LEGISLATIVO</td>\n",
       "      <td>ROGERIO JUSTAMANTE DE SORDI</td>\n",
       "      <td>31340.14</td>\n",
       "      <td>26158.56</td>\n",
       "    </tr>\n",
       "    <tr>\n",
       "      <th>139</th>\n",
       "      <td>PROCURADOR LEGISLATIVO</td>\n",
       "      <td>JOSE LUIZ LEVY</td>\n",
       "      <td>31296.06</td>\n",
       "      <td>NaN</td>\n",
       "    </tr>\n",
       "    <tr>\n",
       "      <th>1280</th>\n",
       "      <td>CONSULTOR TÉCNICO LEGISLATIVO - CONTADOR</td>\n",
       "      <td>JOAO BEZERRA DE MENEZES</td>\n",
       "      <td>31259.17</td>\n",
       "      <td>31224.01</td>\n",
       "    </tr>\n",
       "  </tbody>\n",
       "</table>\n",
       "</div>"
      ],
      "text/plain": [
       "                                         cargo  \\\n",
       "1639                    PROCURADOR LEGISLATIVO   \n",
       "1640                    PROCURADOR LEGISLATIVO   \n",
       "1837                    PROCURADOR LEGISLATIVO   \n",
       "1710                    TÉCNICO ADMINISTRATIVO   \n",
       "68                      PROCURADOR LEGISLATIVO   \n",
       "1547                    TÉCNICO ADMINISTRATIVO   \n",
       "1859                    PROCURADOR LEGISLATIVO   \n",
       "1874                    PROCURADOR LEGISLATIVO   \n",
       "147                     PROCURADOR LEGISLATIVO   \n",
       "1927                  TÉCNICO PARLAMENTAR (PS)   \n",
       "1867                    PROCURADOR LEGISLATIVO   \n",
       "1875                    PROCURADOR LEGISLATIVO   \n",
       "1857                    PROCURADOR LEGISLATIVO   \n",
       "139                     PROCURADOR LEGISLATIVO   \n",
       "1280  CONSULTOR TÉCNICO LEGISLATIVO - CONTADOR   \n",
       "\n",
       "                                       nome  remuneracao_liquida  \\\n",
       "1639                        BRENO GANDELMAN             41151.77   \n",
       "1640                       RAIMUNDO BATISTA             40968.69   \n",
       "1837               MARCELLA FALBO GIACAGLIA             38519.85   \n",
       "1710                 ANGELA BORDIN ANDREONI             36730.72   \n",
       "68      ANTONIO RODRIGUES DE FREITAS JUNIOR             35297.85   \n",
       "1547                  RUI HIROSHI TAMASHIRO             34039.10   \n",
       "1859                MANOEL JOSE ANIDO FILHO             33581.18   \n",
       "1874      LUIZ EDUARDO DE SIQUEIRA S THIAGO             33243.62   \n",
       "147                       KAREN LIMA VIEIRA             33060.44   \n",
       "1927  JOSE CARLOS TEIXEIRA DE CAMARGO FILHO             32015.41   \n",
       "1867              ANDREA RASCOVSKI ICKOWICZ             31607.29   \n",
       "1875                MARIO SERGIO MASCHIETTO             31555.15   \n",
       "1857            ROGERIO JUSTAMANTE DE SORDI             31340.14   \n",
       "139                          JOSE LUIZ LEVY             31296.06   \n",
       "1280                JOAO BEZERRA DE MENEZES             31259.17   \n",
       "\n",
       "      remuneracao_liquida_pos_desconto  \n",
       "1639                          41116.61  \n",
       "1640                          38301.74  \n",
       "1837                          38484.69  \n",
       "1710                          36013.17  \n",
       "68                            32217.85  \n",
       "1547                          33977.44  \n",
       "1859                               NaN  \n",
       "1874                               NaN  \n",
       "147                           28570.95  \n",
       "1927                          24135.00  \n",
       "1867                               NaN  \n",
       "1875                               NaN  \n",
       "1857                          26158.56  \n",
       "139                                NaN  \n",
       "1280                          31224.01  "
      ]
     },
     "execution_count": 10,
     "metadata": {},
     "output_type": "execute_result"
    }
   ],
   "source": [
    "df.sort_values(by='remuneracao_liquida', ascending=False).head(15)"
   ]
  },
  {
   "cell_type": "code",
   "execution_count": null,
   "metadata": {
    "collapsed": true
   },
   "outputs": [],
   "source": []
  }
 ],
 "metadata": {
  "anaconda-cloud": {},
  "kernelspec": {
   "display_name": "Python [conda root]",
   "language": "python",
   "name": "conda-root-py"
  },
  "language_info": {
   "codemirror_mode": {
    "name": "ipython",
    "version": 3
   },
   "file_extension": ".py",
   "mimetype": "text/x-python",
   "name": "python",
   "nbconvert_exporter": "python",
   "pygments_lexer": "ipython3",
   "version": "3.5.2"
  }
 },
 "nbformat": 4,
 "nbformat_minor": 1
}
